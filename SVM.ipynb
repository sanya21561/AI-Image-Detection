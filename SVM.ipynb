{
 "cells": [
  {
   "cell_type": "code",
   "execution_count": null,
   "metadata": {},
   "outputs": [],
   "source": [
    "import os\n",
    "import numpy as np\n",
    "import pandas as pd\n",
    "import cv2\n",
    "from sklearn.model_selection import train_test_split\n",
    "from sklearn.svm import SVC\n",
    "from sklearn.metrics import accuracy_score\n",
    "from sklearn.preprocessing import LabelEncoder"
   ]
  },
  {
   "cell_type": "code",
   "execution_count": null,
   "metadata": {},
   "outputs": [],
   "source": [
    "train_data_path = 'cifake dataset/train'\n",
    "test_data_path = 'cifake dataset/test'\n",
    "\n",
    "# Create empty lists to store image data and labels\n",
    "data = []\n",
    "labels = []\n",
    "\n",
    "# Loop through the REAL and FAKE subfolders in the train data directory\n",
    "for folder in os.listdir(train_data_path):\n",
    "    folder_path = os.path.join(train_data_path, folder)\n",
    "    label = folder  # Label is either 'REAL' or 'FAKE'\n",
    "\n",
    "    # Loop through the images in each subfolder\n",
    "    for filename in os.listdir(folder_path):\n",
    "        image_path = os.path.join(folder_path, filename)\n",
    "        image = cv2.imread(image_path)\n",
    "        image = cv2.resize(image, (32, 32))  # we are given 32*32 images but created check for consistency\n",
    "        data.append(image)\n",
    "        labels.append(label)"
   ]
  },
  {
   "cell_type": "code",
   "execution_count": null,
   "metadata": {},
   "outputs": [],
   "source": [
    "# Convert data and labels to NumPy arrays\n",
    "data = np.array(data)\n",
    "labels = np.array(labels)\n",
    "\n",
    "# Encode the labels\n",
    "label_encoder = LabelEncoder()\n",
    "labels = label_encoder.fit_transform(labels)\n",
    "\n",
    "# Split the data into training and validation sets (80% train, 20% validation)\n",
    "X_train, X_val, y_train, y_val = train_test_split(data, labels, test_size=0.2, random_state=42)"
   ]
  },
  {
   "cell_type": "code",
   "execution_count": null,
   "metadata": {},
   "outputs": [],
   "source": [
    "# Create an SVM classifier\n",
    "svm_classifier = SVC(kernel='linear', random_state=42)  # You can choose different kernels (e.g., 'linear', 'rbf', etc.)\n",
    "\n",
    "# Train the classifier on the training data\n",
    "svm_classifier.fit(X_train.reshape(-1, 32*32*3), y_train)\n",
    "print(\"Model Trained\")\n",
    "\n",
    "# Make predictions on the validation data\n",
    "val_predictions = svm_classifier.predict(X_val.reshape(-1, 32*32*3))\n",
    "\n",
    "# Calculate accuracy on the validation set\n",
    "validation_accuracy = accuracy_score(y_val, val_predictions)\n",
    "print(\"Validation Accuracy:\", validation_accuracy)"
   ]
  },
  {
   "cell_type": "markdown",
   "metadata": {},
   "source": [
    "### TEST DATA"
   ]
  },
  {
   "cell_type": "code",
   "execution_count": null,
   "metadata": {},
   "outputs": [],
   "source": [
    "# Load and preprocess the test data\n",
    "test_data = []\n",
    "test_labels = []\n",
    "\n",
    "for folder in os.listdir(test_data_path):\n",
    "    folder_path = os.path.join(test_data_path, folder)\n",
    "    label = folder  # Label is either 'REAL' or 'FAKE'\n",
    "\n",
    "    # Loop through the images in each subfolder\n",
    "    for filename in os.listdir(folder_path):\n",
    "        image_path = os.path.join(folder_path, filename)\n",
    "        image = cv2.imread(image_path)\n",
    "        image = cv2.resize(image, (32, 32))  # we are given 32*32 images but created check for consistency\n",
    "        test_data.append(image)\n",
    "        test_labels.append(label)"
   ]
  },
  {
   "cell_type": "code",
   "execution_count": null,
   "metadata": {},
   "outputs": [],
   "source": [
    "# Convert test data to a NumPy array\n",
    "test_data = np.array(test_data)\n",
    "\n",
    "# Make predictions on the test data\n",
    "test_predictions = svm_classifier.predict(test_data.reshape(-1, 32*32*3))\n",
    "# Map the predicted labels back to 'real' and 'fake'\n",
    "test_predictions = label_encoder.inverse_transform(test_predictions)\n",
    "\n",
    "# Calculate accuracy on the test data\n",
    "test_accuracy = accuracy_score(test_labels, test_predictions)\n",
    "print(\"Test Accuracy:\", test_accuracy)"
   ]
  }
 ],
 "metadata": {
  "kernelspec": {
   "display_name": "Python 3",
   "language": "python",
   "name": "python3"
  },
  "language_info": {
   "codemirror_mode": {
    "name": "ipython",
    "version": 3
   },
   "file_extension": ".py",
   "mimetype": "text/x-python",
   "name": "python",
   "nbconvert_exporter": "python",
   "pygments_lexer": "ipython3",
   "version": "3.10.4"
  },
  "orig_nbformat": 4
 },
 "nbformat": 4,
 "nbformat_minor": 2
}
